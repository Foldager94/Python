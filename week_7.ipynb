{
 "cells": [
  {
   "cell_type": "markdown",
   "metadata": {},
   "source": [
    "# Week 7 Handin"
   ]
  },
  {
   "cell_type": "markdown",
   "metadata": {},
   "source": [
    "## Assignment\n",
    "\n",
    "### Exercise 1 \n",
    "\n",
    "Create a python module with a class called Webscraber, that implements an init(self,URL) and functions that uses Selinium, BeautifulSoup and Regex needed to solve Exercise 2 (and 3). Furthermore, let the data be stored in class variables, so that results are easily accessed via objects. \n",
    "\n",
    "### Exercise 2\n",
    "\n",
    "Import your module to your jupyter notebook. \n",
    "Make an instance of your class with url: https://www.pricerunner.dk/cl/37/Grafikkort\n",
    "Find graphics cards from Nvidia.\n",
    "Find the most popular graphic processor (2080, 3070 etc). \n",
    "Find all graphics cards with the given processor and store the result in a local dataset. \n",
    "\n",
    "\n",
    "### Exercise 3\n",
    "\n",
    "Given the result from exercise 2, find the 5 cheapest cards across brands, and show them in a plot chart, with ‘name’ on the x-axis and ‘price’ on the y-axis.\n",
    "For the cheapest card, find out which dealers are trading it, and what is the average price? Hint - new search/webscrape\n",
    "Find the brand with the card that has the biggest difference in list price."
   ]
  },
  {
   "cell_type": "markdown",
   "metadata": {},
   "source": [
    "## Status"
   ]
  },
  {
   "cell_type": "markdown",
   "metadata": {},
   "source": [
    "## Solution"
   ]
  },
  {
   "cell_type": "code",
   "execution_count": 4,
   "metadata": {},
   "outputs": [
    {
     "data": {
      "text/plain": [
       "<module 'modules.Webscraper' from '/home/jovyan/python_handin_template/modules/Webscraper.py'>"
      ]
     },
     "execution_count": 4,
     "metadata": {},
     "output_type": "execute_result"
    }
   ],
   "source": [
    "#import\n",
    "from modules import Webscraper\n",
    "import importlib\n",
    "from selenium import webdriver\n",
    "importlib.reload(Webscraper)"
   ]
  },
  {
   "cell_type": "code",
   "execution_count": 5,
   "metadata": {},
   "outputs": [
    {
     "name": "stdout",
     "output_type": "stream",
     "text": [
      "Initialzin webdriver\n",
      "\n",
      "Fetching url\n",
      "Telling browser to wait 2 sec by deault\n",
      "https://www.pricerunner.dk/sp/nvidia-geforce-rtx-3060-ti.html\n",
      "####################\n",
      "ASUS GeForce RTX 3060 Ti Dual OC\n",
      "------------------------------\n",
      "ASUS GeForce RTX 3060 Ti TUF Gaming 2xHDMI 3xDP 8GB\n",
      "------------------------------\n",
      "MSI GeForce RTX 3060 Ti Ventus 3X OC\n",
      "------------------------------\n",
      "ASUS GeForce RTX 3060 Ti Dual 2xHDMI 3xDP 8GB\n",
      "------------------------------\n",
      "Gigabyte Geforce RTX 3060 Ti 8GB EAGLE\n",
      "------------------------------\n",
      "Inno3D GeForce RTX 3060 Ti Twin X2 OC HDMI 3xDP 8GB\n",
      "------------------------------\n",
      "MSI GeForce RTX 3060 Ti Gaming X Trio\n",
      "------------------------------\n",
      "MSI GeForce RTX 3060 Ti Ventus 2X OCV1\n",
      "------------------------------\n",
      "EVGA GeForce RTX 3060 Ti XC Black HDMI 3xDP 8GB\n",
      "------------------------------\n",
      "ASUS GeForce RTX 3060 Ti ROG Strix Gaming OC 2xHDMI 3xDP 8GB\n",
      "------------------------------\n",
      "MSI GeForce RTX 3060 Ti Ventus 2X OC\n",
      "------------------------------\n",
      "Gigabyte GeForce RTX 3060 Ti Gaming OC 8G\n",
      "------------------------------\n",
      "ASUS GeForce RTX 3060 Ti Dual Mini HDMI 3xDP 8GB\n",
      "------------------------------\n",
      "ASUS GeForce RTX 3060 Ti TUF Gaming OC 2xHDMI 3xDP 8GB\n",
      "------------------------------\n",
      "Gigabyte GeForce RTX 3060 Ti Eagle OC 8GB\n",
      "------------------------------\n",
      "Inno3D GeForce RTX 3060 Ti Twin X2 HDMI 3xDP 8GB\n",
      "------------------------------\n",
      "Gigabyte Aorus GeForce RTX 3060 Ti Master 8G\n",
      "------------------------------\n",
      "MSI GeForce RTX 3060 Ti Gaming X HDMI 3xDP 8GB\n",
      "------------------------------\n",
      "Inno3D GeForce RTX 3060 Ti iChill X3 Red HDMI 3xDP 8GB\n",
      "------------------------------\n",
      "PNY GeForce RTX 3060 Ti XLR8 Gaming Epic-X P HDMI 3xDP 8GB\n",
      "------------------------------\n",
      "ASUS GeForce RTX 3060 Ti Dual Mini OC HDMI 3xDP 8GB\n",
      "------------------------------\n",
      "ASUS GeForce RTX 3060 Ti ROG Strix Gaming 2xHDMI 3xDP 8GB\n",
      "------------------------------\n",
      "EVGA GeForce RTX 3060 Ti FTW3 Ultra HDMI 3xDP 8GB\n",
      "------------------------------\n",
      "Gigabyte GeForce RTX 3060 Ti Vision OC 8GB\n",
      "------------------------------\n",
      "Gigabyte GeForce RTX 3060 Ti Gaming OC Pro 8G\n",
      "------------------------------\n",
      "EVGA GeForce RTX 3060 Ti XC HDMI 3xDP 8GB\n",
      "------------------------------\n",
      "Zotac GeForce RTX 3060 Ti Twin Edge OC HDMI 3xDP 8GB\n",
      "------------------------------\n",
      "Palito GeForce RTX 3060 Ti GamingPro HDMI 3xDP 8GB\n",
      "------------------------------\n",
      "Palit Microsystems GeForce RTX 3060 Ti Dual\n",
      "------------------------------\n",
      "EVGA GeForce RTX 3060 Ti FTW3 HDMI 3xDP 8GB\n",
      "------------------------------\n",
      "EVGA GeForce RTX 3060 Ti FTW3 Black\n",
      "------------------------------\n",
      "Palit Microsystems GeForce RTX 3060 Ti Dual OC HDMI 3xDP 8GB\n",
      "------------------------------\n",
      "PNY GeForce RTX 3060 Ti Dual Fan HDMI 3xDP 8GB\n",
      "------------------------------\n",
      "Inno3D GeForce RTX 3060 Ti iChill X3 RED\n",
      "------------------------------\n",
      "Ångström X-ray Core I5 16gb 1,024gb Ssd Nvidia Geforce Rtx 3060 Ti\n",
      "------------------------------\n",
      "ASUS TUF-RTX3060TI-O8G-GAMING - NVIDIA RTX3060Ti - 8GB GDDR6 - PCI Express 4.0 x16\n",
      "------------------------------\n",
      "PNY XLR8 GeForce RTX 3060 Ti Gaming - REVEL EPIC-X RGB Edition - graphics card - GF RTX 3060 Ti - 8 GB GDDR6 - PCIe 4.0 x16 - HDMI, 3 x DisplayPort\n",
      "------------------------------\n",
      "PNY GeForce RTX 3060 12GB UPRISING Dual Fan\n",
      "------------------------------\n",
      "AWD MB311 Ryzen 3800X 8 Core 4.5GHz NVIDIA RTX 3060 Ti 8GB Desktop PC for Gaming\n",
      "------------------------------\n",
      "AWD P400A DRGB Ryzen 5600X 6 Core 4.6GHz NVIDIA RTX 3060 Ti 8GB Desktop PC for Gaming\n",
      "------------------------------\n",
      "AWD Observatory Lite Mesh 3500X Six Core 4.1GHz NVIDIA RTX 3060 Ti 8GB Desktop PC for Gaming\n",
      "------------------------------\n",
      "0:03:00.973215\n"
     ]
    }
   ],
   "source": [
    "scrape = Webscraper.Webscraper(\"https://www.pricerunner.dk/cl/37/Grafikkort\")\n",
    "scrape.search(\"NVidia\")"
   ]
  },
  {
   "cell_type": "code",
   "execution_count": null,
   "metadata": {},
   "outputs": [],
   "source": []
  }
 ],
 "metadata": {
  "kernelspec": {
   "display_name": "Python 3",
   "language": "python",
   "name": "python3"
  },
  "language_info": {
   "codemirror_mode": {
    "name": "ipython",
    "version": 3
   },
   "file_extension": ".py",
   "mimetype": "text/x-python",
   "name": "python",
   "nbconvert_exporter": "python",
   "pygments_lexer": "ipython3",
   "version": "3.7.6"
  }
 },
 "nbformat": 4,
 "nbformat_minor": 4
}

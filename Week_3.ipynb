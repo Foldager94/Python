{
 "cells": [
  {
   "cell_type": "markdown",
   "metadata": {},
   "source": [
    "# Week 3 Assignments"
   ]
  },
  {
   "cell_type": "markdown",
   "metadata": {},
   "source": [
    "## Assignemnt\n",
    "\n",
    "### Ex 1 Classes\n",
    "1. Create 3 classes: Student, DataSheet and Course\n",
    "2. A student has a data_sheet and a data_sheet has multiple courses in particular order\n",
    "3. Each course has name, classroom, teacher, ETCS and optional grade if course is taken.\n",
    "4. In Student create __init__() so that a Student can be initiated with name, gender, data_sheet and image_url\n",
    "5. In DataSheet create a method to get_grades_as_list()\n",
    "6. In student create a method: get_avg_grade()\n",
    "7. Create a function that can generate n number of students with random: name, gender, courses (from a fixed list of course names), grades, img_url\n",
    "   1. Let the function write the result to a csv file with format stud_name, course_name, teacher, ects, classroom, grade, img_url\n",
    "7. Read student data into a list of Students from a csv file: \n",
    "   1. loop through the list and print each student with name, img_url and avg_grade.\n",
    "   2. sort the list by avg_grade\n",
    "   3. create a bar chart with student_name on x and avg_grade on y-axis\n",
    "8. Make a method on Student class that can show progression of the study in % (add up ECTS from all passed courses divided by total of 150 total points (equivalent to 5 semesters))\n",
    "9. Show a bar chart of distribution of study progression on x-axis and number of students in each category on y-axis. (e.g. make 10 categories from 0-100%)\n",
    "\n",
    "Extra: Make the Datasheet class iterable so that next(data_sheet) will return the next course in the list\n",
    "\n",
    "### Ex 2 Exceptions (extra)\n",
    "1. Create a function that can take a list of students and return the 3 students closest to completing their study.\n",
    "2. If list is shorter than 3 raise your own custom exception (NotEnoughStudentsException)\n",
    "3. Create another function that can create a csv file with 3 students closest to completion\n",
    "   1. If an exception is raised write an appropriate message to the file\n",
    "\n",
    "### Ex 3 Plotting (extra)\n",
    "1. Create a function that can take a list of students and show a pie chart of how students are distributed in ECTS percentage categories (10%, 20%, ...)\n",
    "2. create a function that can take a list of students and show how many students have taken each course (bar chart)\n",
    "   1. create a method on student that can return a list of courses\n",
    "3. make the figure show males and females in different colors for each course (display 2 datasets in same figure)\n"
   ]
  },
  {
   "cell_type": "markdown",
   "metadata": {},
   "source": [
    "## Status"
   ]
  },
  {
   "cell_type": "markdown",
   "metadata": {},
   "source": [
    "## Solution Exercise 1"
   ]
  },
  {
   "cell_type": "code",
   "execution_count": 11,
   "metadata": {},
   "outputs": [],
   "source": [
    "#import\n",
    "import matplotlib.pyplot as plt\n",
    "import csv\n",
    "import random"
   ]
  },
  {
   "cell_type": "code",
   "execution_count": 2,
   "metadata": {},
   "outputs": [],
   "source": [
    "class Student: \n",
    "    def __init__(self, name, gender, image_url, data_sheet): \n",
    "        self.name = name \n",
    "        self.gender = gender \n",
    "        self.data_sheet = data_sheet \n",
    "        self.image_url = image_url\n",
    "\n",
    "    def get_avg_grade(self):\n",
    "        grades = self.data_sheet.grades_as_list()\n",
    "        sum_of_grades = 0\n",
    "        for grade in grades:\n",
    "            sum_of_grades += int(grade)\n",
    "        avg_grade = int(sum_of_grades)/len(grades)\n",
    "        return avg_grade\n",
    "\n",
    "    def progression_in_percent(self):\n",
    "        total_sum = 150\n",
    "        sum = 0\n",
    "        for course in self.data_sheet.courses:\n",
    "            sum += int(course.etcs)\n",
    "\n",
    "        sum_in_procent = (sum/total_sum)*100\n",
    "        return sum_in_procent\n",
    "\n",
    "    def __str__(self):\n",
    "        return self.name + \",\" + self.gender + \",\" + self.image_url + self.data_sheet.__str__()"
   ]
  },
  {
   "cell_type": "code",
   "execution_count": 3,
   "metadata": {},
   "outputs": [],
   "source": [
    "class DataSheet:\n",
    "\n",
    "    def __init__(self, courses=[]):\n",
    "        self.courses = courses\n",
    "\n",
    "    def grades_as_list(self):\n",
    "        lst = []\n",
    "        for x in self.courses:\n",
    "            lst.append(x.grade)\n",
    "        return lst\n",
    "\n",
    "\n",
    "    def __str__(self):\n",
    "        String = \"\"\n",
    "        for c in self.courses:\n",
    "            String += \",\" + c.name + \",\" + c.teacher + \",\" + str(c.classroom) + \",\" + str(c.etcs) + \",\" + str(c.grade)\n",
    "        return \",\"+str(len(self.courses)) + String +\"\\n\""
   ]
  },
  {
   "cell_type": "code",
   "execution_count": 4,
   "metadata": {},
   "outputs": [],
   "source": [
    "class Course:\n",
    "\n",
    "    def __init__(self, name, classroom, teacher, etcs, grade=-1):\n",
    "        self.name = name\n",
    "        self.classroom = classroom\n",
    "        self.teacher = teacher\n",
    "        self.etcs = etcs\n",
    "        self.grade = grade"
   ]
  },
  {
   "cell_type": "code",
   "execution_count": 5,
   "metadata": {},
   "outputs": [],
   "source": [
    "def generate_student(n, out=\"output.txt\"): \n",
    "    StudentNameList = [\"Andreas\", \"Alex\", \"Benjamin\", \"Nicolas\", \"Christoffer\", \"Lars\", \"Kim\", \"Henrik\", \"Victor\", \"Lenny\", \"Kasper\", \"Bo\", \"Hans\"] \n",
    "    TeatcherName = [\"Lise\", \"kurt\", \"Arne\", \"Tess\", \"Nicolaj\"] \n",
    "    ClassRoom = [1,2,3,4,5,6,7,8,9] \n",
    "    CourseName = [\"Math\", \"Chemestry\", \"Gym\", \"Danglish\", \"English\", \"Computer Science\", \"physics\"] \n",
    "    Grades = [-3, 00, 2, 4, 7, 10, 12] \n",
    "    ECTS = 25 \n",
    "    Students = [] \n",
    "    with open(out, 'w') as o: \n",
    "        for x in range(n): \n",
    "            course1 = Course(random.choice(CourseName), random.choice(ClassRoom), random.choice(TeatcherName), random.randrange(10, 50, 5), random.choice(Grades)) \n",
    "            course2 = Course(random.choice(CourseName), random.choice(ClassRoom), random.choice(TeatcherName), random.randrange(10, 50, 5), random.choice(Grades)) \n",
    "            course3 = Course(random.choice(CourseName), random.choice(ClassRoom), random.choice(TeatcherName), random.randrange(10, 50, 5), random.choice(Grades)) \n",
    "            data = DataSheet([course1, course2, course3]) \n",
    "            newStudent = Student(random.choice(StudentNameList), \"Male\", \"Image_url\", data) \n",
    "            Students.append(newStudent) \n",
    "            o.write(newStudent.__str__()) \n",
    "    return Students\n",
    "\n",
    "def retrive_students_from_csv(input): \n",
    "    student_list = []\n",
    "    with open(input, 'r') as o: \n",
    "        reader = csv.reader(o) \n",
    "        for row in reader:\n",
    "            number_of_courses = int(row[3]) \n",
    "            courses_list = [] \n",
    "            number = 0 \n",
    "            x=0 \n",
    "            while x < number_of_courses: \n",
    "                courses_list.append(Course(row[4+number], row[5+number], row[6+number], row[7+number], row[8+number]))\n",
    "                number += 5 \n",
    "                x += 1 \n",
    "            student_list.append(Student(row[0], row[1], row[2], DataSheet(courses_list))) \n",
    "    return student_list\n",
    "\n",
    "def print_name_avg(list): \n",
    "    for student in list: \n",
    "        avg_grade = student.get_avg_grade() \n",
    "        name = student.name \n",
    "        img = student.image_url \n",
    "        print(\"Navn:\", name, \" image:\", img, \" average grade:\", avg_grade)\n",
    "\n",
    "def sort_by_avg_grade(list): \n",
    "    sorted_list = sorted(list, key=lambda obj: obj.get_avg_grade(), reverse=True) \n",
    "    return sorted_list\n",
    "\n",
    "def var_plot(list): \n",
    "    name = [] \n",
    "    avg_grade = [] \n",
    "    for student in list: \n",
    "        name.append(student.name) \n",
    "        avg_grade.append(student.get_avg_grade()) \n",
    "    plt.bar(name, avg_grade, width=0.5, align='center') \n",
    "    plt.xticks(rotation=45, horizontalalignment='right', fontweight='light')\n",
    "    plt.show()\n",
    "\n",
    "def etcs_plot(list): \n",
    "    procent = [10.0, 20.0, 30.0, 40.0, 50.0, 60.0, 70.0, 80.0, 90.0, 100.0] \n",
    "    number_of_students = [0, 0, 0, 0, 0, 0, 0, 0, 0, 0] \n",
    "    student_etcs= [] \n",
    "    for student in list: \n",
    "        student_etcs.append(student.progression_in_percent())\n",
    "\n",
    "    for etcs in student_etcs:\n",
    "        etcs_index_0 = str(etcs)[0]\n",
    "        index = switch_case_etcs(etcs_index_0)\n",
    "        number_of_students[index] = number_of_students[index] + 1\n",
    "\n",
    "\n",
    "    plt.bar(procent, number_of_students, width=0.5, align='center')\n",
    "    #plt.xticks(rotation=45, horizontalalignment='right', fontweight='light')\n",
    "    plt.show()\n",
    "    \n",
    "def switch_case_etcs(n): \n",
    "    return { '1' : 0, '2' : 1, '3' : 2, '4' : 3, '5' : 4, '6' : 5, '7' : 6, '8' : 7, '9' : 8, '10' : 9 }[n]"
   ]
  },
  {
   "cell_type": "code",
   "execution_count": 6,
   "metadata": {},
   "outputs": [
    {
     "name": "stdout",
     "output_type": "stream",
     "text": [
      "Alex,Male,Image_url,3,physics,Nicolaj,8,45,7,Gym,Tess,3,10,10,English,Lise,1,10,10\r\n",
      "Andreas,Male,Image_url,3,Computer Science,Arne,2,25,7,Computer Science,kurt,3,25,10,Math,Tess,4,40,10\r\n",
      "Victor,Male,Image_url,3,physics,Nicolaj,5,10,12,Danglish,Arne,2,10,-3,Math,Tess,3,20,-3\r\n"
     ]
    }
   ],
   "source": [
    "generate_student(3)\n",
    "!cat output.txt"
   ]
  },
  {
   "cell_type": "code",
   "execution_count": 7,
   "metadata": {},
   "outputs": [
    {
     "name": "stdout",
     "output_type": "stream",
     "text": [
      "[<__main__.Student object at 0x7fc1c1f313d0>, <__main__.Student object at 0x7fc1c1f31ed0>, <__main__.Student object at 0x7fc1c2774410>]\n"
     ]
    }
   ],
   "source": [
    "student_list_from_csv = retrive_students_from_csv(\"output.txt\")\n",
    "print(student_list_from_csv)"
   ]
  },
  {
   "cell_type": "code",
   "execution_count": 13,
   "metadata": {},
   "outputs": [
    {
     "name": "stdout",
     "output_type": "stream",
     "text": [
      "Navn: Alex  image: Image_url  average grade: 9.0\n",
      "Navn: Andreas  image: Image_url  average grade: 9.0\n",
      "Navn: Victor  image: Image_url  average grade: 2.0\n"
     ]
    }
   ],
   "source": [
    "print_name_avg(student_list_from_csv)"
   ]
  },
  {
   "cell_type": "code",
   "execution_count": 14,
   "metadata": {},
   "outputs": [
    {
     "name": "stdout",
     "output_type": "stream",
     "text": [
      "Navn: Alex  image: Image_url  average grade: 9.0\n",
      "Navn: Andreas  image: Image_url  average grade: 9.0\n",
      "Navn: Victor  image: Image_url  average grade: 2.0\n"
     ]
    }
   ],
   "source": [
    "sorted_student_list_from_csv = sort_by_avg_grade(student_list_from_csv)\n",
    "print_name_avg(sorted_student_list_from_csv)"
   ]
  },
  {
   "cell_type": "code",
   "execution_count": 15,
   "metadata": {},
   "outputs": [
    {
     "data": {
      "image/png": "[encoded data removed]",
      "text/plain": [
       "<Figure size 432x288 with 1 Axes>"
      ]
     },
     "metadata": {
      "needs_background": "light"
     },
     "output_type": "display_data"
    }
   ],
   "source": [
    "var_plot(sorted_student_list_from_csv)"
   ]
  },
  {
   "cell_type": "code",
   "execution_count": 17,
   "metadata": {},
   "outputs": [
    {
     "name": "stdout",
     "output_type": "stream",
     "text": [
      "43.333333333333336\n",
      "60.0\n",
      "26.666666666666668\n"
     ]
    }
   ],
   "source": [
    "for student in sorted_student_list_from_csv:\n",
    "    print(student.progression_in_percent())"
   ]
  },
  {
   "cell_type": "code",
   "execution_count": 18,
   "metadata": {},
   "outputs": [
    {
     "data": {
      "image/png": "[encoded data removed]",
      "text/plain": [
       "<Figure size 432x288 with 1 Axes>"
      ]
     },
     "metadata": {
      "needs_background": "light"
     },
     "output_type": "display_data"
    }
   ],
   "source": [
    "etcs_plot(sorted_student_list_from_csv)"
   ]
  }
 ],
 "metadata": {
  "kernelspec": {
   "display_name": "Python 3",
   "language": "python",
   "name": "python3"
  },
  "language_info": {
   "codemirror_mode": {
    "name": "ipython",
    "version": 3
   },
   "file_extension": ".py",
   "mimetype": "text/x-python",
   "name": "python",
   "nbconvert_exporter": "python",
   "pygments_lexer": "ipython3",
   "version": "3.7.6"
  }
 },
 "nbformat": 4,
 "nbformat_minor": 4
}

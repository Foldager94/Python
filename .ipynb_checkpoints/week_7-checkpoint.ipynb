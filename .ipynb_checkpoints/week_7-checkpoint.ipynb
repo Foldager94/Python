{
 "cells": [
  {
   "cell_type": "markdown",
   "metadata": {},
   "source": [
    "# Week 7 Handin"
   ]
  },
  {
   "cell_type": "markdown",
   "metadata": {},
   "source": [
    "## Assignment\n",
    "\n",
    "### Exercise 1 \n",
    "\n",
    "Create a python module with a class called Webscraber, that implements an init(self,URL) and functions that uses Selinium, BeautifulSoup and Regex needed to solve Exercise 2 (and 3). Furthermore, let the data be stored in class variables, so that results are easily accessed via objects. \n",
    "\n",
    "### Exercise 2\n",
    "\n",
    "Import your module to your jupyter notebook. \n",
    "Make an instance of your class with url: https://www.pricerunner.dk/cl/37/Grafikkort\n",
    "Find graphics cards from Nvidia.\n",
    "Find the most popular graphic processor (2080, 3070 etc). \n",
    "Find all graphics cards with the given processor and store the result in a local dataset. \n",
    "\n",
    "\n",
    "### Exercise 3\n",
    "\n",
    "Given the result from exercise 2, find the 5 cheapest cards across brands, and show them in a plot chart, with ‘name’ on the x-axis and ‘price’ on the y-axis.\n",
    "For the cheapest card, find out which dealers are trading it, and what is the average price? Hint - new search/webscrape\n",
    "Find the brand with the card that has the biggest difference in list price."
   ]
  },
  {
   "cell_type": "markdown",
   "metadata": {},
   "source": [
    "## Status"
   ]
  },
  {
   "cell_type": "markdown",
   "metadata": {},
   "source": [
    "## Solution"
   ]
  },
  {
   "cell_type": "code",
   "execution_count": 2,
   "metadata": {},
   "outputs": [],
   "source": [
    "#import\n",
    "from modules import Webscraper"
   ]
  },
  {
   "cell_type": "code",
   "execution_count": null,
   "metadata": {},
   "outputs": [],
   "source": [
    "Webscraper.search(\"https://www.pricerunner.dk/cl/37/Grafikkort\")"
   ]
  }
 ],
 "metadata": {
  "kernelspec": {
   "display_name": "Python 3",
   "language": "python",
   "name": "python3"
  },
  "language_info": {
   "codemirror_mode": {
    "name": "ipython",
    "version": 3
   },
   "file_extension": ".py",
   "mimetype": "text/x-python",
   "name": "python",
   "nbconvert_exporter": "python",
   "pygments_lexer": "ipython3",
   "version": "3.7.6"
  }
 },
 "nbformat": 4,
 "nbformat_minor": 4
}

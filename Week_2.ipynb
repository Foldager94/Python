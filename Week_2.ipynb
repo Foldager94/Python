{
 "cells": [
  {
   "cell_type": "markdown",
   "metadata": {},
   "source": [
    "# Week 2 Handin"
   ]
  },
  {
   "cell_type": "markdown",
   "metadata": {},
   "source": [
    "## Assignment\n",
    "\n",
    "## Exercise 1\n",
    "1. Create a python file with 3 functions:\n",
    "  1. `def print_file_content(file)` that can print content of a csv file to the console\n",
    "  2. `def write_list_to_file(output_file, lst)` that can take a list of tuple and write each element to a new line in file\n",
    "    1. rewrite the function so that it gets an arbitrary number of strings instead of a list\n",
    "  3. `def read_csv(input_file)` that take a csv file and read each row into a list\n",
    "2. Add a functionality so that the file can be called from cli with 2 arguments\n",
    "  1. path to csv file\n",
    "  2. an argument `--file file_name` that if given will write the content to file_name or otherwise will print it to the console.\n",
    "3. Add a --help cli argument to describe how the module is used  \n",
    "\n",
    "## Exercise 2\n",
    "Create a module called utils.py with the following 5 functions:\n",
    "\n",
    "```python\n",
    "def get_file_names(folderpath,out=output.txt):\n",
    "    \"\"\" takes a path to a folder and writes all filenames in the folder to a specified output file\"\"\"\n",
    "\n",
    "def get_all_file_names(folderpath,out=output.txt):\n",
    "    \"\"\"takes a path to a folder and write all filenames recursively (files of all sub folders to)\"\"\"\n",
    "\n",
    "def print_line_one(file_names):\n",
    "    \"\"\"takes a list of filenames and print the first line of each\"\"\"\n",
    "\n",
    "def print_emails(file_names):\n",
    "    \"\"\"takes a list of filenames and print each line that contains an email (just look for @)\"\"\"\n",
    "\n",
    "def write_headlines(md_files, out=output.txt):\n",
    "    \"\"\"takes a list of md files and writes all headlines (lines starting with #) to a file\"\"\"\n",
    "\n",
    "```\n",
    "Make sure your module can be called both from cli and imported to another module\n",
    "Create a new module that imports utils.py and test each function."
   ]
  },
  {
   "cell_type": "markdown",
   "metadata": {},
   "source": [
    "## Status"
   ]
  },
  {
   "cell_type": "markdown",
   "metadata": {},
   "source": [
    "## Solution Exercise 1"
   ]
  },
  {
   "cell_type": "code",
   "execution_count": 1,
   "metadata": {},
   "outputs": [
    {
     "name": "stdout",
     "output_type": "stream",
     "text": [
      "Hej,med,dig,jeg,hedder,bo\n",
      "Jeg,bot,hos,min,bedstemor\n"
     ]
    }
   ],
   "source": [
    "#1.A\n",
    "from modules import week2Excersice1\n",
    "path = \"Files/week2Excercise1.CSV\"\n",
    "\n",
    "week2Excersice1.print_file_content(path)\n"
   ]
  },
  {
   "cell_type": "code",
   "execution_count": 2,
   "metadata": {},
   "outputs": [
    {
     "name": "stdout",
     "output_type": "stream",
     "text": [
      "1.B\n",
      "apple banana cherry Test\n",
      "\n",
      "1.B.a\n",
      "str1\n",
      "str2\n",
      "str3\n"
     ]
    }
   ],
   "source": [
    "from modules import week2Excersice1\n",
    "\n",
    "#1.B\n",
    "path1 = \"Files/Week2File1.txt\"\n",
    "thistuple = (\"apple\", \"banana\", \"cherry\", \"Test\")\n",
    "week2Excersice1.write_list_to_file_A(path1, thistuple)\n",
    "\n",
    "#1.B.A\n",
    "path2 = \"Files/Week2File2.txt\"\n",
    "week2Excersice1.write_list_to_file_B(path2, \"str1\", \"str2\", \"str3\")\n",
    "\n",
    "!echo 1.B\n",
    "!cat Files/Week2File1.txt\n",
    "!echo \n",
    "!echo 1.B.a\n",
    "!cat Files/Week2File2.txt"
   ]
  },
  {
   "cell_type": "code",
   "execution_count": 3,
   "metadata": {},
   "outputs": [
    {
     "name": "stdout",
     "output_type": "stream",
     "text": [
      "[['Hej', 'med', 'dig', 'jeg', 'hedder', 'bo'], ['Jeg', 'bot', 'hos', 'min', 'bedstemor']]\n"
     ]
    }
   ],
   "source": [
    "from modules import week2Excersice1\n",
    "#1.C\n",
    "\n",
    "path = \"Files/week2Excercise1.CSV\"\n",
    "week2Excersice1.read_csv(path)"
   ]
  },
  {
   "cell_type": "code",
   "execution_count": 4,
   "metadata": {},
   "outputs": [
    {
     "name": "stdout",
     "output_type": "stream",
     "text": [
      "Hej,med,dig,jeg,hedder,bo\r\n",
      "Jeg,bot,hos,min,bedstemor\r\n"
     ]
    }
   ],
   "source": [
    "#2.A\n",
    "!python modules/week2Excersice1.py Files/week2Excercise1.CSV"
   ]
  },
  {
   "cell_type": "code",
   "execution_count": 5,
   "metadata": {},
   "outputs": [
    {
     "name": "stdout",
     "output_type": "stream",
     "text": [
      "en\r\n",
      "to\r\n",
      "tre\r\n"
     ]
    }
   ],
   "source": [
    "#2.B\n",
    "!python modules/week2Excersice1.py Files/week2Excercise1.CSV -f Files/Week2File3.txt -l en to tre\n",
    "!cat Files/Week2File3.txt"
   ]
  },
  {
   "cell_type": "code",
   "execution_count": 6,
   "metadata": {},
   "outputs": [
    {
     "name": "stdout",
     "output_type": "stream",
     "text": [
      "['en', 'to', 'tre']\r\n"
     ]
    }
   ],
   "source": [
    "#3\n",
    "!python modules/week2Excersice1.py Files/week2Excercise1.CSV -l en to tre"
   ]
  },
  {
   "cell_type": "markdown",
   "metadata": {},
   "source": [
    "## Solution Exercise 2"
   ]
  },
  {
   "cell_type": "code",
   "execution_count": 14,
   "metadata": {},
   "outputs": [
    {
     "name": "stdout",
     "output_type": "stream",
     "text": [
      "['.git', '.ipynb_checkpoints', 'Files', 'Handin_template.ipynb', 'modules', 'output.txt', 'README.md', 'requirements.txt', 'Week_1.ipynb', 'Week_2.ipynb']\n",
      "File is ready:  output.txt\n"
     ]
    }
   ],
   "source": [
    "import modules.utils\n",
    "import importlib\n",
    "importlib.reload(modules.utils)\n",
    "path = []\"/home/jovyan/python_handin_template\"\n",
    "\n",
    "modules.utils.get_file_names(path)\n",
    "# \n",
    "    "
   ]
  },
  {
   "cell_type": "code",
   "execution_count": 59,
   "metadata": {},
   "outputs": [],
   "source": [
    "import modules.utils\n",
    "from os import getcwd\n",
    "import importlib\n",
    "importlib.reload(modules.utils)\n",
    "path = getcwd()\n",
    "\n",
    "\n",
    "modules.utils.get_all_file_names(path)"
   ]
  },
  {
   "cell_type": "code",
   "execution_count": 70,
   "metadata": {},
   "outputs": [
    {
     "name": "stdout",
     "output_type": "stream",
     "text": [
      "inputfile.txt  week2Excercise1.CSV  Week2File2.txt\n",
      "Test.txt       Week2File1.txt\t    Week2File3.txt\n",
      "#Hej\n",
      "\n"
     ]
    }
   ],
   "source": [
    "import modules.utils\n",
    "import importlib\n",
    "importlib.reload(modules.utils)\n",
    "!ls Files\n",
    "modules.utils.print_line_one([\"Files/inputfile.txt\"])"
   ]
  },
  {
   "cell_type": "code",
   "execution_count": 72,
   "metadata": {},
   "outputs": [
    {
     "name": "stdout",
     "output_type": "stream",
     "text": [
      "ajksdas@asd.dk\n",
      "\n",
      "asdasdas@sasd.dk\n"
     ]
    }
   ],
   "source": [
    "import modules.utils\n",
    "import importlib\n",
    "importlib.reload(modules.utils)\n",
    "modules.utils.print_emails([\"Files/inputfile.txt\"])\n",
    "    "
   ]
  },
  {
   "cell_type": "code",
   "execution_count": 77,
   "metadata": {},
   "outputs": [
    {
     "name": "stdout",
     "output_type": "stream",
     "text": [
      "inputfile.txt  week2Excercise1.CSV  Week2File2.txt\n",
      "Test.txt       Week2File1.txt\t    Week2File3.txt\n",
      "#påpå\n",
      "\n",
      "#Hej\n",
      "\n",
      "#på123\n",
      "\n",
      "#påpå\n",
      "\n"
     ]
    }
   ],
   "source": [
    "import modules.utils\n",
    "import importlib\n",
    "importlib.reload(modules.utils)\n",
    "!ls Files\n",
    "modules.utils.write_headlines([\"Files/inputfile.txt\"])\n",
    "\n",
    "!cat output.txt"
   ]
  }
 ],
 "metadata": {
  "kernelspec": {
   "display_name": "Python 3",
   "language": "python",
   "name": "python3"
  },
  "language_info": {
   "codemirror_mode": {
    "name": "ipython",
    "version": 3
   },
   "file_extension": ".py",
   "mimetype": "text/x-python",
   "name": "python",
   "nbconvert_exporter": "python",
   "pygments_lexer": "ipython3",
   "version": "3.7.6"
  }
 },
 "nbformat": 4,
 "nbformat_minor": 4
}
